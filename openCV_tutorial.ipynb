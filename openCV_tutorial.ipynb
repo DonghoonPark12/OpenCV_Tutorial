{
 "cells": [
  {
   "cell_type": "markdown",
   "metadata": {},
   "source": [
    "## OpenCV Python Examples  "
   ]
  },
  {
   "cell_type": "code",
   "execution_count": null,
   "metadata": {},
   "outputs": [],
   "source": [
    "import numpy as np\n",
    "import os,cv2\n",
    "from PIL import Image"
   ]
  },
  {
   "cell_type": "code",
   "execution_count": null,
   "metadata": {},
   "outputs": [],
   "source": [
    "img = cv2.imread('C:/Users/road.jpg')\n",
    "cv2.imshow('img', img)\n",
    "cv2.waitKey(0)"
   ]
  },
  {
   "cell_type": "code",
   "execution_count": null,
   "metadata": {},
   "outputs": [],
   "source": [
    "#TODO: Smoothing Images\n",
    "'''\n",
    "cv2.GaussianBlur(img, ksize, sigmaX)\n",
    "Parameters: img – Chennel수는 상관없으나, depth(Data Type)은 CV_8U, CV_16U, CV_16S, CV_32F or CV_64F.\n",
    "            ksize – (width, height) 형태의 kernel size. width와 height는 서로 다를 수 있지만, 양수의 홀수로 지정해야 함.\n",
    "            sigmaX – Gaussian kernel standard deviation in X direction.\n",
    "'''"
   ]
  },
  {
   "cell_type": "code",
   "execution_count": null,
   "metadata": {},
   "outputs": [],
   "source": [
    "#TODO: Scaling image\n",
    "'''\n",
    "cv2.resize(img, dsize, fx, fy, interpolation)\n",
    "Parameters: img – Image\n",
    "            dsize – Manual Size. 가로, 세로 형태의 tuple(ex; (100,200))\n",
    "            fx – 가로 사이즈의 배수. 2배로 크게하려면 2. 반으로 줄이려면 0.5\n",
    "            fy – 세로 사이즈의 배수\n",
    "            interpolation – 보간법\n",
    "'''"
   ]
  },
  {
   "cell_type": "code",
   "execution_count": null,
   "metadata": {},
   "outputs": [],
   "source": [
    "#TODO: Affine transformation1\n",
    "'''\n",
    "cv2.warpAffine(src, M, dsize)\n",
    "Parameters: src – Image\n",
    "            M – 변환 행렬\n",
    "            dsize (tuple) – output image size(ex; (width=columns, height=rows)\n",
    "'''"
   ]
  },
  {
   "cell_type": "code",
   "execution_count": null,
   "metadata": {},
   "outputs": [],
   "source": [
    "#TODO: Rotation \n",
    "'''\n",
    "cv2.getRotationMatrix2D(center, angle, scale)\n",
    "Parameters: center – 이미지의 중심 좌표\n",
    "            angle – 회전 각도\n",
    "            scale – scale factor\n",
    "'''"
   ]
  },
  {
   "cell_type": "code",
   "execution_count": null,
   "metadata": {},
   "outputs": [],
   "source": [
    "#TODO: Affine transformation2\n",
    "'''\n",
    "cv2.getAffineTransform(pts1, pts2)\n",
    "평행성은 유지가 되면서 이미지를 변환하는 작업. 이동, 확대, Scale, 반전까지 포함된 변환.\n",
    "Parameters: pts1(점 3개), pts2\n",
    "'''"
   ]
  },
  {
   "cell_type": "code",
   "execution_count": null,
   "metadata": {},
   "outputs": [],
   "source": [
    "#TODO: Perspective transforamtion\n",
    "'''\n",
    "cv2.getPerspectiveTransform()\n",
    "직선의 성질만 유지가 되고, 선의 평행성은 유지가 되지 않는 변환\n",
    "Parameters: pts1(점 4개), pts2\n",
    "'''"
   ]
  }
 ],
 "metadata": {
  "kernelspec": {
   "display_name": "Python 3",
   "language": "python",
   "name": "python3"
  },
  "language_info": {
   "codemirror_mode": {
    "name": "ipython",
    "version": 3.0
   },
   "file_extension": ".py",
   "mimetype": "text/x-python",
   "name": "python",
   "nbconvert_exporter": "python",
   "pygments_lexer": "ipython3",
   "version": "3.6.5"
  }
 },
 "nbformat": 4,
 "nbformat_minor": 0
}